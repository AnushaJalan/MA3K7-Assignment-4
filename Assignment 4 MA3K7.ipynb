{
 "cells": [
  {
   "cell_type": "code",
   "execution_count": 23,
   "id": "c35f05e9",
   "metadata": {},
   "outputs": [],
   "source": [
    "import random\n",
    "import numpy as np\n",
    "import math \n",
    "import matplotlib.pyplot as plt \n",
    "from collections import defaultdict"
   ]
  },
  {
   "cell_type": "markdown",
   "id": "ef12f3a0",
   "metadata": {},
   "source": [
    "This calculates the probability of landing on 25 in 24 or less flips of the coin"
   ]
  },
  {
   "cell_type": "code",
   "execution_count": 9,
   "id": "7e82e7a7",
   "metadata": {},
   "outputs": [
    {
     "name": "stdout",
     "output_type": "stream",
     "text": [
      "In 24 flips, the probability of landing on 25 is: 5.960464477539063e-08\n",
      "In 23 flips, the probability of landing on 25 is: 2.7418136596679688e-06\n",
      "In 22 flips, the probability of landing on 25 is: 5.507469177246094e-05\n",
      "In 21 flips, the probability of landing on 25 is: 0.0006341934204101562\n",
      "In 20 flips, the probability of landing on 25 is: 0.004620552062988281\n",
      "In 19 flips, the probability of landing on 25 is: 0.02217864990234375\n",
      "In 18 flips, the probability of landing on 25 is: 0.0708160400390625\n",
      "In 17 flips, the probability of landing on 25 is: 0.14837646484375\n",
      "In 16 flips, the probability of landing on 25 is: 0.196380615234375\n",
      "In 15 flips, the probability of landing on 25 is: 0.152740478515625\n",
      "In 14 flips, the probability of landing on 25 is: 0.06109619140625\n",
      "In 13 flips, the probability of landing on 25 is: 0.009521484375\n",
      "In 12 flips, the probability of landing on 25 is: 0.000244140625\n",
      "The total probability of landing on 25 is 0.6666666865348816\n"
     ]
    }
   ],
   "source": [
    "N=24\n",
    "\n",
    "total_prob=0\n",
    "\n",
    "#i is the number of 2's thrown and j is the number of 1's\n",
    "for i in range (0,13):\n",
    "    j=N-(i*2)\n",
    "    permutations=math.factorial((i+j))/(math.factorial (i)*math.factorial(j))\n",
    "    prob=((0.5)**(i+j))*permutations\n",
    "    total_prob+=prob\n",
    "    print('In', i+j, 'flips, the probability of landing on 25 is:', prob)\n",
    "    \n",
    "print('The total probability of landing on 25 is', total_prob)"
   ]
  },
  {
   "cell_type": "code",
   "execution_count": 123,
   "id": "5b309e22",
   "metadata": {},
   "outputs": [
    {
     "name": "stdout",
     "output_type": "stream",
     "text": [
      "{3: 52, 5: 53, 2: 36, 4: 49, 6: 51, 8: 49, 7: 49, 10: 52, 12: 55, 9: 50, 11: 45, 14: 50, 15: 45, 17: 38, 16: 49, 13: 49, 19: 44, 21: 47, 18: 48, 20: 42, 23: 42, 22: 45, 24: 46, 25: 42, 27: 44, 28: 38, 26: 47, 29: 45, 31: 45, 33: 41, 34: 39, 30: 35, 32: 33, 35: 38, 36: 32, 37: 42, 38: 36, 40: 34, 42: 31, 39: 38, 41: 37, 43: 40, 44: 28, 46: 29, 45: 37, 47: 38, 49: 33, 51: 31, 53: 27, 55: 33, 48: 33, 50: 24, 52: 31, 54: 33, 56: 25, 58: 26, 59: 25, 61: 25, 57: 31, 60: 28, 63: 28, 65: 29, 62: 28, 64: 20, 66: 25, 68: 23, 69: 23, 71: 26, 72: 22, 67: 23, 73: 25, 75: 21, 70: 21, 77: 19, 78: 22, 80: 21, 82: 19, 83: 18, 74: 17, 76: 19, 79: 14, 81: 14, 84: 16, 85: 16, 86: 20, 87: 10, 88: 20, 89: 13, 91: 13, 90: 16, 92: 16, 94: 16, 96: 16, 98: 12, 99: 10, 93: 7, 97: 9, 95: 9, 101: 8, 103: 7, 100: 9, 102: 8, 104: 10, 105: 6, 106: 7, 107: 7, 108: 5, 109: 6, 110: 5, 112: 3, 113: 5, 114: 2, 115: 5, 116: 2, 117: 4, 111: 4, 118: 1}\n"
     ]
    },
    {
     "data": {
      "image/png": "[encoded data removed]",
      "text/plain": [
       "<Figure size 432x288 with 1 Axes>"
      ]
     },
     "metadata": {
      "needs_background": "light"
     },
     "output_type": "display_data"
    }
   ],
   "source": [
    "import random\n",
    "import matplotlib.pyplot as plt\n",
    "\n",
    "step_pos_count = {}  # Dictionary to store count of step_pos for each N\n",
    "\n",
    "for N in range(0, 80):\n",
    "    step_pos = 1\n",
    "    for _ in range(N):\n",
    "        flip = random.choice([1, 2])\n",
    "        step_pos += flip\n",
    "\n",
    "        # Store the count of step_pos for current N\n",
    "        if step_pos in step_pos_count:\n",
    "            step_pos_count[step_pos] += 1\n",
    "        else:\n",
    "            step_pos_count[step_pos] = 1\n",
    "            \n",
    "print(step_pos_count)\n",
    "# Convert the dictionary into lists for plotting\n",
    "positions = list(step_pos_count.keys())\n",
    "counts = list(step_pos_count.values())\n",
    "\n",
    "# Plotting\n",
    "plt.bar(positions, counts)\n",
    "plt.xlabel('Step Position')\n",
    "plt.ylabel('Frequency')\n",
    "plt.title('Frequency of Landing Positions')\n",
    "plt.show()\n",
    "\n"
   ]
  },
  {
   "cell_type": "markdown",
   "id": "51277995",
   "metadata": {},
   "source": [
    "We can see this clearly shows a positive skew, suggesting that we would expect a greater than uniform probability of landing on 25 "
   ]
  },
  {
   "cell_type": "code",
   "execution_count": 48,
   "id": "271bb0b9",
   "metadata": {},
   "outputs": [
    {
     "name": "stdout",
     "output_type": "stream",
     "text": [
      "The probability of reaching position 3 after 2 flips is approximately 0.7500\n",
      "Total number of valid sequences: 3\n",
      "Total number of sequences: 4\n",
      "Valid sequences:\n",
      "[1, 1]\n",
      "[2, 1]\n",
      "[2, 2]\n"
     ]
    }
   ],
   "source": [
    "def generate_all_flip_sequences(N):\n",
    "    if N == 0:\n",
    "        return [[]]\n",
    "    elif N == 1:\n",
    "        return [[1], [2]]\n",
    "    else:\n",
    "        sequences = []\n",
    "        for seq in generate_all_flip_sequences(N - 1):\n",
    "            sequences.append(seq + [1])\n",
    "            sequences.append(seq + [2])\n",
    "        return sequences\n",
    "    \n",
    "def probability_pos_given_sequence(sequence, goal_position):\n",
    "    position = 1\n",
    "    for flip in sequence:\n",
    "        position += flip\n",
    "        if position == goal_position:\n",
    "            return True\n",
    "        if position < 1:  # Ensure position never goes below 1\n",
    "            return False\n",
    "    return False\n",
    "\n",
    "def probability_pos_all_flips(N, goal_position):\n",
    "    all_sequences = generate_all_flip_sequences(N)\n",
    "    valid_sequences = list(filter(lambda seq: probability_pos_given_sequence(seq, goal_position), all_sequences))\n",
    "    total_valid_sequences = len(valid_sequences)\n",
    "    total_sequences = 2 ** N\n",
    "    probability = total_valid_sequences / total_sequences\n",
    "    return probability, total_valid_sequences, total_sequences, valid_sequences\n",
    "\n",
    "\n",
    "# Example usage\n",
    "N = 2\n",
    "goal_position = 3\n",
    "probability, total_valid_sequences, total_sequences, valid_sequences = probability_pos_all_flips(N, goal_position)\n",
    "print(f\"The probability of reaching position {goal_position} after {N} flips is approximately {probability:.4f}\")\n",
    "print(f\"Total number of valid sequences: {total_valid_sequences}\")\n",
    "print(f\"Total number of sequences: {total_sequences}\")\n",
    "print(\"Valid sequences:\")\n",
    "for seq in valid_sequences:\n",
    "    print(seq)\n"
   ]
  },
  {
   "cell_type": "markdown",
   "id": "e917074b",
   "metadata": {},
   "source": [
    "This code could work for small N, but would take really long for larger values, it also doesn't count the different permutations"
   ]
  },
  {
   "cell_type": "markdown",
   "id": "27fef670",
   "metadata": {},
   "source": [
    "Now we want to find all the permutations of 1 and 2 which would mean we miss the 25"
   ]
  },
  {
   "cell_type": "code",
   "execution_count": 75,
   "id": "364a02b1",
   "metadata": {},
   "outputs": [
    {
     "name": "stdout",
     "output_type": "stream",
     "text": [
      "The number of valid sequences given we land on 2 is: 46368\n",
      "The probability of landing on 25, given we have landed on 2 is: 0.6666666269302368\n"
     ]
    }
   ],
   "source": [
    "#This generates all the possible combinations of 1,2 which will mean we land om 25, given a previous number which we have landed on \n",
    "\n",
    "\n",
    "def generate_combinations(n):\n",
    "    def generate_combinations_helper(target, partial):\n",
    "        if target == 0:\n",
    "            combinations.append(partial)\n",
    "            return\n",
    "        if target < 0:\n",
    "            return\n",
    "\n",
    "        # Include 1\n",
    "        generate_combinations_helper(target - 1, partial + [1])\n",
    "\n",
    "        # Include 2\n",
    "        generate_combinations_helper(target - 2, partial + [2])\n",
    "\n",
    "    combinations = []\n",
    "    generate_combinations_helper(25 - n, [])\n",
    "    return combinations\n",
    "\n",
    "n = 2\n",
    "result = generate_combinations(n)\n",
    "#print(\"Possible combinations for n =\", n, \":\", result)\n",
    "print(\"The number of valid sequences given we land on\", n, \"is:\", len(result))\n",
    "\n",
    "total=0\n",
    "for combinations in result:\n",
    "    prob=0.5**len(combinations)\n",
    "    total+=prob\n",
    "print('The probability of landing on 25, given we have landed on', n, 'is:', total)\n"
   ]
  },
  {
   "cell_type": "markdown",
   "id": "0e74d26f",
   "metadata": {},
   "source": [
    "And again we seem to get values which approximate to 2/3 "
   ]
  },
  {
   "cell_type": "code",
   "execution_count": 127,
   "id": "231026e7",
   "metadata": {},
   "outputs": [
    {
     "data": {
      "image/png": "[encoded data removed]",
      "text/plain": [
       "<Figure size 432x288 with 1 Axes>"
      ]
     },
     "metadata": {
      "needs_background": "light"
     },
     "output_type": "display_data"
    },
    {
     "name": "stdout",
     "output_type": "stream",
     "text": [
      "The probability of landing on a 25 is: 0.666748046875\n"
     ]
    }
   ],
   "source": [
    "# Plot recurrence relation\n",
    "import numpy as np\n",
    "import matplotlib.pyplot as plt\n",
    "%matplotlib inline\n",
    "\n",
    "A = np.array([1, 0.5, 0.5])\n",
    "for i in np.arange(2,50):\n",
    "    a = 1-0.5*A[i-1]\n",
    "    A = np.append(A,a)\n",
    "\n",
    "plt.plot(A)\n",
    "plt.grid('on')\n",
    "plt.show()\n",
    "n=25\n",
    "print('The probability of landing on a', n, 'is:', A[n-1])"
   ]
  },
  {
   "cell_type": "code",
   "execution_count": 116,
   "id": "65517544",
   "metadata": {},
   "outputs": [
    {
     "name": "stdout",
     "output_type": "stream",
     "text": [
      "The probability of landing on 25, given we have landed on 1 is: 0.49999944241474686\n"
     ]
    }
   ],
   "source": [
    "def generate_combinations(n):\n",
    "    def generate_combinations_helper(target, partial):\n",
    "        if target == 0:\n",
    "            combinations.append(partial)\n",
    "            return\n",
    "        if target < 0:\n",
    "            return\n",
    "\n",
    "        # Include 1\n",
    "        generate_combinations_helper(target - 1, partial + [1])\n",
    "\n",
    "        # Include 2\n",
    "        generate_combinations_helper(target - 2, partial + [2])\n",
    "\n",
    "        # Include 3\n",
    "        generate_combinations_helper(target - 3, partial + [3])\n",
    "\n",
    "    combinations = []\n",
    "    generate_combinations_helper(25 - n, [])\n",
    "    return combinations\n",
    "\n",
    "n = 1\n",
    "result = generate_combinations(n)\n",
    "#print(\"Possible combinations for n =\", n, \":\", result)\n",
    "#print(\"The number of valid sequences given we land on\", n, \"is:\", len(result))\n",
    "\n",
    "total = 0\n",
    "for combinations in result:\n",
    "    prob = (1/3) ** len(combinations)\n",
    "    total += prob\n",
    "print('The probability of landing on 25, given we have landed on', n, 'is:', total)\n"
   ]
  },
  {
   "cell_type": "markdown",
   "id": "536dd586",
   "metadata": {},
   "source": [
    "We can see here have a fair dice with 3 sides and options to move steps 1,2,3 the probability of landing on 25 decreases to approximately 0.5 we can test this by setting n=1 as we know with 100% we will land on 1. The generates all the possible sequences of 1,2,3 which will add to 24"
   ]
  },
  {
   "cell_type": "code",
   "execution_count": 128,
   "id": "8ddf4470",
   "metadata": {},
   "outputs": [
    {
     "data": {
      "image/png": "[encoded data removed]",
      "text/plain": [
       "<Figure size 432x288 with 1 Axes>"
      ]
     },
     "metadata": {
      "needs_background": "light"
     },
     "output_type": "display_data"
    },
    {
     "name": "stdout",
     "output_type": "stream",
     "text": [
      "The probability of landing on a 25 is: 0.5197660699870728\n"
     ]
    }
   ],
   "source": [
    "# Plot recurrence relation for case where we have 1,2,3\n",
    "import numpy as np\n",
    "import matplotlib.pyplot as plt\n",
    "%matplotlib inline\n",
    "\n",
    "A = np.array([1, 0.5, 0.5])\n",
    "for i in np.arange(2,50):\n",
    "    a = 1-(2/3)*A[i-1]-(1/3)*A[i-2]\n",
    "    A = np.append(A,a)\n",
    "\n",
    "plt.plot(A)\n",
    "plt.grid('on')\n",
    "plt.show()\n",
    "n=25\n",
    "print('The probability of landing on a', n, 'is:', A[n-1])"
   ]
  },
  {
   "cell_type": "code",
   "execution_count": 130,
   "id": "df3fd736",
   "metadata": {},
   "outputs": [
    {
     "data": {
      "image/png": "[encoded data removed]",
      "text/plain": [
       "<Figure size 432x288 with 1 Axes>"
      ]
     },
     "metadata": {
      "needs_background": "light"
     },
     "output_type": "display_data"
    },
    {
     "name": "stdout",
     "output_type": "stream",
     "text": [
      "The probability of landing on a 25 is: 0.3040270209312439\n"
     ]
    }
   ],
   "source": [
    "# Plot recurrence relation for case where we have 1,2,3,4\n",
    "import numpy as np\n",
    "import matplotlib.pyplot as plt\n",
    "%matplotlib inline\n",
    "\n",
    "\n",
    "A = np.array([1, 0.25, 0.25])\n",
    "for i in np.arange(2,50):\n",
    "    a = 1-(3/4)*A[i-1]-(2/4)*A[i-2]-(1/4)*A[i-3]\n",
    "    A = np.append(A,a)\n",
    "\n",
    "plt.plot(A)\n",
    "plt.grid('on')\n",
    "plt.show()\n",
    "n=25\n",
    "print('The probability of landing on a', n, 'is:', A[n-1])"
   ]
  },
  {
   "cell_type": "code",
   "execution_count": 148,
   "id": "6341dc66",
   "metadata": {},
   "outputs": [
    {
     "name": "stdout",
     "output_type": "stream",
     "text": [
      "{0: 1262, 2: 1336, 3: 1189, 1: 1285, 4: 1038, 5: 908, 6: 844, -1: 1096, -2: 981, -3: 857, -4: 687, -5: 559, -6: 456, -7: 354, -8: 292, 7: 795, 8: 686, 9: 589, 10: 501, 11: 437, 12: 415, -9: 271, -10: 241, -11: 191, -12: 149, 13: 356, 14: 274, 15: 209, 16: 137, 17: 100, 18: 105, -13: 113, -14: 103, -15: 70, -16: 51, 19: 96, 20: 80, 21: 70, 22: 59, 23: 60, 24: 71, -17: 59, -18: 44, -19: 30, -20: 32, -21: 27, -22: 18, -23: 12, 25: 63, 26: 53, 27: 47, 28: 36, 29: 19, 30: 11, 31: 11, 32: 8, 33: 7, 34: 7, 35: 3, 36: 2, 37: 1, -24: 11, -25: 12, -26: 10, -27: 4}\n"
     ]
    },
    {
     "data": {
      "image/png": "[encoded data removed]",
      "text/plain": [
       "<Figure size 432x288 with 1 Axes>"
      ]
     },
     "metadata": {
      "needs_background": "light"
     },
     "output_type": "display_data"
    }
   ],
   "source": [
    "import random\n",
    "import matplotlib.pyplot as plt\n",
    "\n",
    "step_pos_count = {}  # Dictionary to store count of step_pos for each N\n",
    "\n",
    "for N in range(0, 200):\n",
    "    step_pos = 1\n",
    "    for _ in range(N):\n",
    "        flip = random.choice([-1, 1])\n",
    "        step_pos += flip\n",
    "\n",
    "        # Store the count of step_pos for current N\n",
    "        if step_pos in step_pos_count:\n",
    "            step_pos_count[step_pos] += 1\n",
    "        else:\n",
    "            step_pos_count[step_pos] = 1\n",
    "            \n",
    "print(step_pos_count)\n",
    "# Convert the dictionary into lists for plotting\n",
    "positions = list(step_pos_count.keys())\n",
    "counts = list(step_pos_count.values())\n",
    "\n",
    "# Plotting\n",
    "plt.bar(positions, counts)\n",
    "plt.xlabel('Step Position')\n",
    "plt.ylabel('Frequency')\n",
    "plt.title('Frequency of All Landing Positions')\n",
    "plt.show()\n"
   ]
  },
  {
   "cell_type": "code",
   "execution_count": 164,
   "id": "984d26bf",
   "metadata": {},
   "outputs": [
    {
     "name": "stdout",
     "output_type": "stream",
     "text": [
      "{-7: 424, -13: 210, -1: 572, 7: 468, -9: 331, 9: 409, -5: 482, 11: 329, 5: 476, -15: 171, -23: 32, -3: 491, -31: 4, 25: 32, 1: 546, -11: 281, -21: 50, 17: 150, 15: 211, 19: 106, 23: 60, -19: 89, 13: 271, 3: 557, 21: 70, 27: 20, -17: 104, -25: 20, 31: 3, -29: 6, 29: 4, -27: 14, -45: 2, -33: 1, 33: 2, 35: 1, 37: 1}\n"
     ]
    },
    {
     "data": {
      "image/png": "[encoded data removed]",
      "text/plain": [
       "<Figure size 432x288 with 1 Axes>"
      ]
     },
     "metadata": {
      "needs_background": "light"
     },
     "output_type": "display_data"
    }
   ],
   "source": [
    "from scipy.optimize import curve_fit \n",
    "step_pos_count = {} \n",
    "for i in range(0,7000):\n",
    "    step_pos=1\n",
    "    for N in range(0, 100):\n",
    "        flip = random.choice([-1, 1])\n",
    "        step_pos += flip\n",
    "\n",
    "            # Store the count of step_pos for current N\n",
    "    if step_pos in step_pos_count:\n",
    "        step_pos_count[step_pos] += 1\n",
    "    else:\n",
    "        step_pos_count[step_pos] = 1\n",
    "\n",
    "print(step_pos_count)\n",
    "# Convert the dictionary into lists for plotting\n",
    "positions = list(step_pos_count.keys())\n",
    "counts = list(step_pos_count.values())\n",
    "\n",
    "# Plotting\n",
    "\n",
    "plt.bar(positions, counts)\n",
    "plt.xlabel('Final position after 100 steps')\n",
    "plt.ylabel('Frequency')\n",
    "plt.title('Frequency of Final Landing Positions')\n",
    "plt.show()"
   ]
  },
  {
   "cell_type": "code",
   "execution_count": 169,
   "id": "290739b8",
   "metadata": {},
   "outputs": [
    {
     "name": "stderr",
     "output_type": "stream",
     "text": [
      "/var/folders/x0/_vg42q852vlgq44lwsq1cdsh0000gn/T/ipykernel_60579/441554127.py:6: RuntimeWarning: overflow encountered in exp\n",
      "  y = A*np.exp(-1*B*x**2)\n"
     ]
    },
    {
     "data": {
      "image/png": "[encoded data removed]",
      "text/plain": [
       "<Figure size 432x288 with 1 Axes>"
      ]
     },
     "metadata": {
      "needs_background": "light"
     },
     "output_type": "display_data"
    }
   ],
   "source": [
    "pos=np.asarray(positions)\n",
    "cou=np.asarray(counts)\n",
    "\n",
    "# Define the Gaussian function \n",
    "def Gauss(x, A, B): \n",
    "    y = A*np.exp(-1*B*x**2) \n",
    "    return y \n",
    "parameters, covariance = curve_fit(Gauss, pos, cou) \n",
    "\n",
    "# Sort the data based on the x-values\n",
    "sorted_indices = np.argsort(pos)\n",
    "pos_sorted = pos[sorted_indices]\n",
    "cou_sorted = cou[sorted_indices]\n",
    "  \n",
    "fit_A = parameters[0] \n",
    "fit_B = parameters[1] \n",
    "  \n",
    "fit_y = Gauss(pos_sorted, fit_A, fit_B) \n",
    "# Plotting\n",
    "plt.bar(positions, counts)\n",
    "plt.plot(pos_sorted, fit_y, '-', label='fit', color='black')\n",
    "plt.xlabel('Final position after 100 steps')\n",
    "plt.ylabel('Frequency')\n",
    "plt.title('Frequency of Final Landing Positions')\n",
    "plt.show()"
   ]
  },
  {
   "cell_type": "code",
   "execution_count": null,
   "id": "f5b8bb4f",
   "metadata": {},
   "outputs": [],
   "source": []
  }
 ],
 "metadata": {
  "kernelspec": {
   "display_name": "Python 3 (ipykernel)",
   "language": "python",
   "name": "python3"
  },
  "language_info": {
   "codemirror_mode": {
    "name": "ipython",
    "version": 3
   },
   "file_extension": ".py",
   "mimetype": "text/x-python",
   "name": "python",
   "nbconvert_exporter": "python",
   "pygments_lexer": "ipython3",
   "version": "3.9.7"
  }
 },
 "nbformat": 4,
 "nbformat_minor": 5
}
